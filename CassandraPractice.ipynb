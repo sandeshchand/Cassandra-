{
 "cells": [
  {
   "cell_type": "code",
   "execution_count": null,
   "metadata": {},
   "outputs": [],
   "source": [
    "!pip install cassandra-driver"
   ]
  },
  {
   "cell_type": "code",
   "execution_count": null,
   "metadata": {},
   "outputs": [],
   "source": [
    "import cassandra\n",
    "print(cassandra.__version__)"
   ]
  },
  {
   "cell_type": "code",
   "execution_count": null,
   "metadata": {},
   "outputs": [],
   "source": [
    "from cassandra.cluster import Cluster\n",
    "from cassandra.auth import PlainTextAuthProvider\n",
    "\n",
    "try:\n",
    "    cloud_config= {\n",
    "            'secure_connect_bundle': 'J:\\Ineuron\\secure-connect-sandesh007.zip'\n",
    "    }\n",
    "    auth_provider = PlainTextAuthProvider('SjJkSsbMHtSprEXHBnbbWcUT', '2rCxj3ln_8xflrmZg1TFBz69SmzmJcvgwmiibq7RZXjXu9kjkN_1WRPQCkDEPXR2Cjr2WnZq5k+pnISnAjn0b6FPNEjQBtzaJlazOaXwY4BuBMcA2q3J,DOWcZAcnimO')\n",
    "    cluster = Cluster(cloud=cloud_config, auth_provider=auth_provider)\n",
    "    session = cluster.connect()\n",
    "except Exception as e:\n",
    "    print('Error occurs',e)\n",
    "\n",
    "#row = session.execute(\"select release_version from system.local\").one()\n",
    "#row =session.execute(\"CREATE KEYSPACE Sandesh WITH replication = {'class':'SimpleStrategy', 'replication_factor' : 3}\").one()\n",
    "#row=session.execute(\" CREATE TABLE jonty.emp(emp_id int PRIMARY KEY,emp_name text,emp_city text,emp_sal varint,emp_phone varint);\").one()\n",
    "#row=session.execute(\"DESCRIBE Sandesh\").one()\n"
   ]
  },
  {
   "cell_type": "markdown",
   "metadata": {},
   "source": [
    "# Create a table\n"
   ]
  },
  {
   "cell_type": "code",
   "execution_count": null,
   "metadata": {},
   "outputs": [],
   "source": [
    "try:\n",
    "    query=(\"CREATE TABLE jonty.emp3(EMP_ID TEXT PRIMARY KEY,EMP_NAME TEXT,EMP_ROLE TEXT,EMP_LEVEL INT);\")\n",
    "    row1=session.execute(query).one()\n",
    "    print('Table created')\n",
    "except Exception as e:\n",
    "    print(\"Error\",e)\n",
    "    \n"
   ]
  },
  {
   "cell_type": "markdown",
   "metadata": {},
   "source": [
    "# Insert a row:"
   ]
  },
  {
   "cell_type": "code",
   "execution_count": null,
   "metadata": {},
   "outputs": [],
   "source": [
    "try:\n",
    "    row2=session.execute(\"INSERT INTO jonty.emp3(EMP_ID,EMP_NAME,EMP_ROLE,EMP_LEVEL) values('1234','Sandesh','ER.',7);\")\n",
    "    print(row2)\n",
    "except Exception as e:\n",
    "    print('Error errors',e)\n"
   ]
  },
  {
   "cell_type": "markdown",
   "metadata": {},
   "source": [
    "# Insert more rows and output:"
   ]
  },
  {
   "cell_type": "code",
   "execution_count": null,
   "metadata": {},
   "outputs": [],
   "source": [
    "try:\n",
    "    row3= session.execute(\"INSERT INTO jonty.emp3(EMP_ID,EMP_NAME,EMP_ROLE,EMP_LEVEL) values('1235','Purna','Lawyer',8);\")\n",
    "    row3=session.execute(\"INSERT INTO jonty.emp3(EMP_ID,EMP_NAME,EMP_ROLE,EMP_LEVEL) values('1236','Bindu','HW',9);\")\n",
    "    row3=session.execute(\"INSERT INTO jonty.emp3(EMP_ID,EMP_NAME,EMP_ROLE,EMP_LEVEL) values('1237','Sabita','Banker',10);\")\n",
    "    row3=session.execute(\"INSERT INTO jonty.emp3(EMP_ID,EMP_NAME,EMP_ROLE,EMP_LEVEL) values('1238','Suresh','Business',11);\")\n",
    "    row3=session.execute(\"INSERT INTO jonty.emp3(EMP_ID,EMP_NAME,EMP_ROLE,EMP_LEVEL) values('1239','Deepika','Insurance',12);\")\n",
    "    row3=session.execute(\"INSERT INTO jonty.emp3(EMP_ID,EMP_NAME,EMP_ROLE,EMP_LEVEL) values('1240','Sibu','student',13);\")\n",
    "    row3=session.execute(\"INSERT INTO jonty.emp3(EMP_ID,EMP_NAME,EMP_ROLE,EMP_LEVEL) values('1241','Madan','student',14);\")\n",
    "    row3=session.execute(\"SELECT * from jonty.emp3\") \n",
    "    for i in row3:\n",
    "        print(i)\n",
    "except Exception as e:\n",
    "    print('Error errors',e)\n",
    "\n"
   ]
  },
  {
   "cell_type": "markdown",
   "metadata": {},
   "source": [
    "# Get the rows count:"
   ]
  },
  {
   "cell_type": "code",
   "execution_count": null,
   "metadata": {},
   "outputs": [],
   "source": [
    "try:\n",
    "    row4=session.execute(\"SELECT count(*) from jonty.emp3\")\n",
    "    for i in row4:\n",
    "        print(i)\n",
    "except Exception as e:\n",
    "    print('Error occurs',e)"
   ]
  },
  {
   "cell_type": "markdown",
   "metadata": {},
   "source": [
    "# Add new column "
   ]
  },
  {
   "cell_type": "code",
   "execution_count": null,
   "metadata": {},
   "outputs": [],
   "source": [
    "try:\n",
    "\n",
    "    row4=session.execute(\"ALTER TABLE jonty.emp3 ADD AGE int;\")\n",
    "    for i in row4:\n",
    "        print(i)\n",
    "except Exception as e:\n",
    "        print('Error occurs',e)"
   ]
  },
  {
   "cell_type": "markdown",
   "metadata": {},
   "source": [
    "# Update the new column in whole table"
   ]
  },
  {
   "cell_type": "code",
   "execution_count": null,
   "metadata": {},
   "outputs": [],
   "source": [
    "try:\n",
    "    row4=session.execute(\"INSERT INTO jonty.emp3(EMP_ID,EMP_NAME,EMP_ROLE,EMP_LEVEL,AGE) values('1234','Sandesh','ER.',7,33);\")\n",
    "    row4=session.execute(\"INSERT INTO jonty.emp3(EMP_ID,EMP_NAME,EMP_ROLE,EMP_LEVEL,AGE) values('1235','Purna','Lawyer',8,64);\")\n",
    "    row4=session.execute(\"INSERT INTO jonty.emp3(EMP_ID,EMP_NAME,EMP_ROLE,EMP_LEVEL,AGE) values('1236','Bindu','HW',9,60);\")\n",
    "    row4=session.execute(\"INSERT INTO jonty.emp3(EMP_ID,EMP_NAME,EMP_ROLE,EMP_LEVEL,AGE) values('1237','Sabita','Banker',10,29);\")\n",
    "    row4=session.execute(\"INSERT INTO jonty.emp3(EMP_ID,EMP_NAME,EMP_ROLE,EMP_LEVEL,AGE) values('1238','Suresh','Business',11,40);\")\n",
    "    row4=session.execute(\"INSERT INTO jonty.emp3(EMP_ID,EMP_NAME,EMP_ROLE,EMP_LEVEL,AGE) values('1239','Deepika','Insurance',12,40);\")\n",
    "    row4=session.execute(\"INSERT INTO jonty.emp3(EMP_ID,EMP_NAME,EMP_ROLE,EMP_LEVEL,AGE) values('1240','Sibu','student',13,4);\")\n",
    "    row4=session.execute(\"INSERT INTO jonty.emp3(EMP_ID,EMP_NAME,EMP_ROLE,EMP_LEVEL,AGE) values('1241','Madan','student',14,12);\")\n",
    "    row4=session.execute(\"SELECT * from jonty.emp3;\")\n",
    "    for i in row4:\n",
    "        print(i)\n",
    "except Exception as e:\n",
    "    print(\"Error occurs\",e)\n",
    "\n"
   ]
  },
  {
   "cell_type": "markdown",
   "metadata": {},
   "source": [
    "# To find the minimum AGE"
   ]
  },
  {
   "cell_type": "code",
   "execution_count": null,
   "metadata": {},
   "outputs": [],
   "source": [
    "try:\n",
    "    row4=session.execute(\"SELECT MIN(AGE) from jonty.emp3;\")\n",
    "    for i in row4:\n",
    "        print(i)\n",
    "except Exception as e:\n",
    "    print(\"Error occurs\",e)\n"
   ]
  },
  {
   "cell_type": "markdown",
   "metadata": {},
   "source": [
    "# To find the maximum AGE of the EMP Name"
   ]
  },
  {
   "cell_type": "code",
   "execution_count": null,
   "metadata": {},
   "outputs": [],
   "source": [
    "try:\n",
    "    row4=session.execute(\"SELECT EMP_NAME,MAX(AGE) from jonty.emp3;\")\n",
    "    for i in row4:\n",
    "        print(i)\n",
    "except Exception as e:\n",
    "    print(\"Error occurs\",e)\n"
   ]
  },
  {
   "cell_type": "markdown",
   "metadata": {},
   "source": [
    "# To add the income column of int type"
   ]
  },
  {
   "cell_type": "code",
   "execution_count": null,
   "metadata": {},
   "outputs": [],
   "source": [
    "try:\n",
    "    row4=session.execute(\"ALTER TABLE jonty.emp3 ADD income INT;\")\n",
    "    for i in row4:\n",
    "        print(i)\n",
    "except Exception as e:\n",
    "    print(\"Error occurs\",e)\n"
   ]
  },
  {
   "cell_type": "code",
   "execution_count": null,
   "metadata": {},
   "outputs": [],
   "source": [
    "try:\n",
    "    row4=session.execute(\"INSERT INTO jonty.emp3(EMP_ID,EMP_NAME,EMP_ROLE,EMP_LEVEL,AGE,INCOME) values('1234','Sandesh','ER.',7,33,25000);\")\n",
    "    row4=session.execute(\"INSERT INTO jonty.emp3(EMP_ID,EMP_NAME,EMP_ROLE,EMP_LEVEL,AGE,INCOME) values('1235','Purna','Lawyer',8,64,30000);\")\n",
    "    row4=session.execute(\"INSERT INTO jonty.emp3(EMP_ID,EMP_NAME,EMP_ROLE,EMP_LEVEL,AGE,INCOME) values('1236','Bindu','HW',9,60,5000);\")\n",
    "    row4=session.execute(\"INSERT INTO jonty.emp3(EMP_ID,EMP_NAME,EMP_ROLE,EMP_LEVEL,AGE,INCOME) values('1237','Sabita','Banker',10,29,20000);\")\n",
    "    row4=session.execute(\"INSERT INTO jonty.emp3(EMP_ID,EMP_NAME,EMP_ROLE,EMP_LEVEL,AGE,INCOME) values('1238','Suresh','Business',11,40,60000);\")\n",
    "    row4=session.execute(\"INSERT INTO jonty.emp3(EMP_ID,EMP_NAME,EMP_ROLE,EMP_LEVEL,AGE,INCOME) values('1239','Deepika','Insurance',12,40,35000);\")\n",
    "    row4=session.execute(\"INSERT INTO jonty.emp3(EMP_ID,EMP_NAME,EMP_ROLE,EMP_LEVEL,AGE,INCOME) values('1240','Sibu','student',13,4,0);\")\n",
    "    row4=session.execute(\"INSERT INTO jonty.emp3(EMP_ID,EMP_NAME,EMP_ROLE,EMP_LEVEL,AGE,INCOME) values('1241','Madan','student',14,12,0);\")\n",
    "    row4=session.execute(\"SELECT * from jonty.emp3;\")\n",
    "    for i in row4:\n",
    "        print(i)\n",
    "except Exception as e:\n",
    "    print(\"Error occurs\",e)\n",
    "\n",
    "\n"
   ]
  },
  {
   "cell_type": "markdown",
   "metadata": {},
   "source": [
    "# To find the average of the income"
   ]
  },
  {
   "cell_type": "code",
   "execution_count": null,
   "metadata": {},
   "outputs": [],
   "source": [
    "try:\n",
    "    row4=session.execute(\"SELECT Avg(income) from jonty.emp3;\")\n",
    "    for i in row4:\n",
    "        print(i[0])\n",
    "except Exception as e:\n",
    "    print(\"Error occurs\",e)\n"
   ]
  },
  {
   "cell_type": "markdown",
   "metadata": {},
   "source": [
    "# To read the  emp name from  table"
   ]
  },
  {
   "cell_type": "code",
   "execution_count": null,
   "metadata": {},
   "outputs": [],
   "source": [
    "try:\n",
    "    row4= session.execute(\"SELECT EMP_NAME from jonty.emp3;\")\n",
    "    for i in row4:\n",
    "        print(i[0])\n",
    "except Exception as e:\n",
    "    print(\"Error occurs\",e)\n",
    "\n",
    "                     "
   ]
  },
  {
   "cell_type": "markdown",
   "metadata": {},
   "source": [
    "# to select distinct key element "
   ]
  },
  {
   "cell_type": "code",
   "execution_count": null,
   "metadata": {},
   "outputs": [],
   "source": [
    "row4=session.execute(\"SELECT DISTINCT EMP_ID from jonty.emp3;\")\n",
    "for i in row4:\n",
    "    print(i)"
   ]
  },
  {
   "cell_type": "markdown",
   "metadata": {},
   "source": [
    "# select row using where clause"
   ]
  },
  {
   "cell_type": "code",
   "execution_count": null,
   "metadata": {},
   "outputs": [],
   "source": [
    "try:\n",
    "    row4=session.execute(\"SELECT EMP_NAME,AGE,INCOME from jonty.emp3 where EMP_ID ='1235';\")\n",
    "    for i in row4:\n",
    "        print(i)\n",
    "except Exception as e:\n",
    "    print(\"Error occurs\",e)\n",
    "\n",
    "                     "
   ]
  },
  {
   "cell_type": "markdown",
   "metadata": {},
   "source": [
    "# select the row using asecending or dececnding order"
   ]
  },
  {
   "cell_type": "code",
   "execution_count": null,
   "metadata": {},
   "outputs": [],
   "source": [
    "try:\n",
    "    row4=session.execute(\"SELECT EMP_NAME,AGE,EMP_ROLE from jonty.emp3 ORDER BY EMP_ID DESC ALLOW FILTERING;\")\n",
    "    for i in row4:\n",
    "        print(i)\n",
    "except Exception as e:\n",
    "    print(\"Error occurs\",e)\n",
    "                     "
   ]
  },
  {
   "cell_type": "markdown",
   "metadata": {},
   "source": [
    "# Drop column"
   ]
  },
  {
   "cell_type": "code",
   "execution_count": null,
   "metadata": {},
   "outputs": [],
   "source": [
    "try:\n",
    "    row4=session.execute(\"ALTER TABLE jonty.emp3 DROP INCOME;\")\n",
    "    print(\"INCOME column has been dropped out!\")\n",
    "except Exception as e:\n",
    "    print(\"Error occurs\",e)\n"
   ]
  },
  {
   "cell_type": "markdown",
   "metadata": {},
   "source": [
    "# To display the whole table"
   ]
  },
  {
   "cell_type": "code",
   "execution_count": null,
   "metadata": {},
   "outputs": [],
   "source": [
    "row4= session.execute(\"SELECT * from jonty.emp3;\")\n",
    "for i in row4:\n",
    "    print(i)\n",
    "                     "
   ]
  },
  {
   "cell_type": "code",
   "execution_count": null,
   "metadata": {},
   "outputs": [],
   "source": [
    "# Display employess whose emp_sal 50000 using ALLOW FILTERING;\n",
    "try:\n",
    "    query = \"SELECT EMP_ID,EMP_NAME FROM jonty.emp3 WHERE age >30 ALLOW FILTERING\"\n",
    "    rows = session.execute(query)\n",
    "    for row in rows:\n",
    "        print(row)\n",
    "except Exception as e:\n",
    "    print('excetion occured ',e)"
   ]
  },
  {
   "cell_type": "code",
   "execution_count": null,
   "metadata": {},
   "outputs": [],
   "source": []
  }
 ],
 "metadata": {
  "kernelspec": {
   "display_name": "Python 3",
   "language": "python",
   "name": "python3"
  },
  "language_info": {
   "codemirror_mode": {
    "name": "ipython",
    "version": 3
   },
   "file_extension": ".py",
   "mimetype": "text/x-python",
   "name": "python",
   "nbconvert_exporter": "python",
   "pygments_lexer": "ipython3",
   "version": "3.6.10"
  }
 },
 "nbformat": 4,
 "nbformat_minor": 4
}
